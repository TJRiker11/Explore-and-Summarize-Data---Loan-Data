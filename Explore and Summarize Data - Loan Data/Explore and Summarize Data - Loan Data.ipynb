{
 "cells": [
  {
   "cell_type": "markdown",
   "metadata": {},
   "source": [
    "# Explore and Summarize Data - Loan Data"
   ]
  },
  {
   "cell_type": "markdown",
   "metadata": {},
   "source": [
    "## Introduction"
   ]
  },
  {
   "cell_type": "markdown",
   "metadata": {},
   "source": [
    "> The purspose of this project is to explore and analyze a certain data set. The data set I have chosen for this project is Prosper Loan Data. This data set contains 113,937 loans with 81 variables on each loan, including loan amount, borrower rate (or interest rate), current loan status, borrower income, borrower employment status, borrower credit history, and the latest payment information. The full dataset can be seen [Here](https://github.com/TrikerDev/Explore-and-Summarize-Data---Loan-Data/blob/master/Explore%20and%20Summarize%20Data%20-%20Loan%20Data/prosperLoanData.csv) and the definitions the variables can be seen [Here](https://github.com/TrikerDev/Explore-and-Summarize-Data---Loan-Data/blob/master/Explore%20and%20Summarize%20Data%20-%20Loan%20Data/Prosper%20Loan%20Data%20-%20Variable%20Definitions%20-%20Sheet1.pdf). This full project and all files and work can be seen on [This Github Repository](https://github.com/TrikerDev/Explore-and-Summarize-Data---Loan-Data). This project was carried out through Jupyter Notebooks using [IRkernal, which allows for the use of R in Jupyter](https://irkernel.github.io/installation/#binary-panel)."
   ]
  },
  {
   "cell_type": "markdown",
   "metadata": {},
   "source": [
    "## Loading Data"
   ]
  },
  {
   "cell_type": "code",
   "execution_count": 93,
   "metadata": {},
   "outputs": [
    {
     "name": "stderr",
     "output_type": "stream",
     "text": [
      "Warning message:\n",
      "\"package 'ggplot2' is in use and will not be installed\"\n",
      "Warning message:\n",
      "\"package 'knitr' is in use and will not be installed\"\n",
      "Warning message:\n",
      "\"package 'dplyr' is in use and will not be installed\"\n"
     ]
    }
   ],
   "source": [
    "# Installing packages to be used\n",
    "install.packages(\"ggplot2\", dependencies = T) \n",
    "install.packages(\"knitr\", dependencies = T)\n",
    "install.packages(\"dplyr\", dependencies = T)\n",
    "# They have already been installed before, hence the warning message. It is only necessary for the first time running"
   ]
  },
  {
   "cell_type": "code",
   "execution_count": 94,
   "metadata": {},
   "outputs": [],
   "source": [
    "# Importing packages to be used\n",
    "library(ggplot2)\n",
    "library(knitr)\n",
    "library(dplyr)"
   ]
  },
  {
   "cell_type": "code",
   "execution_count": 95,
   "metadata": {},
   "outputs": [],
   "source": [
    "# Loading in dataset, setting to variable 'data'\n",
    "data <- read.csv('prosperLoanData.csv')"
   ]
  },
  {
   "cell_type": "code",
   "execution_count": 96,
   "metadata": {},
   "outputs": [
    {
     "data": {
      "text/html": [
       "<style>\n",
       ".list-inline {list-style: none; margin:0; padding: 0}\n",
       ".list-inline>li {display: inline-block}\n",
       ".list-inline>li:not(:last-child)::after {content: \"\\00b7\"; padding: 0 .5ex}\n",
       "</style>\n",
       "<ol class=list-inline><li>'ListingKey'</li><li>'ListingNumber'</li><li>'ListingCreationDate'</li><li>'CreditGrade'</li><li>'Term'</li><li>'LoanStatus'</li><li>'ClosedDate'</li><li>'BorrowerAPR'</li><li>'BorrowerRate'</li><li>'LenderYield'</li><li>'EstimatedEffectiveYield'</li><li>'EstimatedLoss'</li><li>'EstimatedReturn'</li><li>'ProsperRating..numeric.'</li><li>'ProsperRating..Alpha.'</li><li>'ProsperScore'</li><li>'ListingCategory..numeric.'</li><li>'BorrowerState'</li><li>'Occupation'</li><li>'EmploymentStatus'</li><li>'EmploymentStatusDuration'</li><li>'IsBorrowerHomeowner'</li><li>'CurrentlyInGroup'</li><li>'GroupKey'</li><li>'DateCreditPulled'</li><li>'CreditScoreRangeLower'</li><li>'CreditScoreRangeUpper'</li><li>'FirstRecordedCreditLine'</li><li>'CurrentCreditLines'</li><li>'OpenCreditLines'</li><li>'TotalCreditLinespast7years'</li><li>'OpenRevolvingAccounts'</li><li>'OpenRevolvingMonthlyPayment'</li><li>'InquiriesLast6Months'</li><li>'TotalInquiries'</li><li>'CurrentDelinquencies'</li><li>'AmountDelinquent'</li><li>'DelinquenciesLast7Years'</li><li>'PublicRecordsLast10Years'</li><li>'PublicRecordsLast12Months'</li><li>'RevolvingCreditBalance'</li><li>'BankcardUtilization'</li><li>'AvailableBankcardCredit'</li><li>'TotalTrades'</li><li>'TradesNeverDelinquent..percentage.'</li><li>'TradesOpenedLast6Months'</li><li>'DebtToIncomeRatio'</li><li>'IncomeRange'</li><li>'IncomeVerifiable'</li><li>'StatedMonthlyIncome'</li><li>'LoanKey'</li><li>'TotalProsperLoans'</li><li>'TotalProsperPaymentsBilled'</li><li>'OnTimeProsperPayments'</li><li>'ProsperPaymentsLessThanOneMonthLate'</li><li>'ProsperPaymentsOneMonthPlusLate'</li><li>'ProsperPrincipalBorrowed'</li><li>'ProsperPrincipalOutstanding'</li><li>'ScorexChangeAtTimeOfListing'</li><li>'LoanCurrentDaysDelinquent'</li><li>'LoanFirstDefaultedCycleNumber'</li><li>'LoanMonthsSinceOrigination'</li><li>'LoanNumber'</li><li>'LoanOriginalAmount'</li><li>'LoanOriginationDate'</li><li>'LoanOriginationQuarter'</li><li>'MemberKey'</li><li>'MonthlyLoanPayment'</li><li>'LP_CustomerPayments'</li><li>'LP_CustomerPrincipalPayments'</li><li>'LP_InterestandFees'</li><li>'LP_ServiceFees'</li><li>'LP_CollectionFees'</li><li>'LP_GrossPrincipalLoss'</li><li>'LP_NetPrincipalLoss'</li><li>'LP_NonPrincipalRecoverypayments'</li><li>'PercentFunded'</li><li>'Recommendations'</li><li>'InvestmentFromFriendsCount'</li><li>'InvestmentFromFriendsAmount'</li><li>'Investors'</li></ol>\n"
      ],
      "text/latex": [
       "\\begin{enumerate*}\n",
       "\\item 'ListingKey'\n",
       "\\item 'ListingNumber'\n",
       "\\item 'ListingCreationDate'\n",
       "\\item 'CreditGrade'\n",
       "\\item 'Term'\n",
       "\\item 'LoanStatus'\n",
       "\\item 'ClosedDate'\n",
       "\\item 'BorrowerAPR'\n",
       "\\item 'BorrowerRate'\n",
       "\\item 'LenderYield'\n",
       "\\item 'EstimatedEffectiveYield'\n",
       "\\item 'EstimatedLoss'\n",
       "\\item 'EstimatedReturn'\n",
       "\\item 'ProsperRating..numeric.'\n",
       "\\item 'ProsperRating..Alpha.'\n",
       "\\item 'ProsperScore'\n",
       "\\item 'ListingCategory..numeric.'\n",
       "\\item 'BorrowerState'\n",
       "\\item 'Occupation'\n",
       "\\item 'EmploymentStatus'\n",
       "\\item 'EmploymentStatusDuration'\n",
       "\\item 'IsBorrowerHomeowner'\n",
       "\\item 'CurrentlyInGroup'\n",
       "\\item 'GroupKey'\n",
       "\\item 'DateCreditPulled'\n",
       "\\item 'CreditScoreRangeLower'\n",
       "\\item 'CreditScoreRangeUpper'\n",
       "\\item 'FirstRecordedCreditLine'\n",
       "\\item 'CurrentCreditLines'\n",
       "\\item 'OpenCreditLines'\n",
       "\\item 'TotalCreditLinespast7years'\n",
       "\\item 'OpenRevolvingAccounts'\n",
       "\\item 'OpenRevolvingMonthlyPayment'\n",
       "\\item 'InquiriesLast6Months'\n",
       "\\item 'TotalInquiries'\n",
       "\\item 'CurrentDelinquencies'\n",
       "\\item 'AmountDelinquent'\n",
       "\\item 'DelinquenciesLast7Years'\n",
       "\\item 'PublicRecordsLast10Years'\n",
       "\\item 'PublicRecordsLast12Months'\n",
       "\\item 'RevolvingCreditBalance'\n",
       "\\item 'BankcardUtilization'\n",
       "\\item 'AvailableBankcardCredit'\n",
       "\\item 'TotalTrades'\n",
       "\\item 'TradesNeverDelinquent..percentage.'\n",
       "\\item 'TradesOpenedLast6Months'\n",
       "\\item 'DebtToIncomeRatio'\n",
       "\\item 'IncomeRange'\n",
       "\\item 'IncomeVerifiable'\n",
       "\\item 'StatedMonthlyIncome'\n",
       "\\item 'LoanKey'\n",
       "\\item 'TotalProsperLoans'\n",
       "\\item 'TotalProsperPaymentsBilled'\n",
       "\\item 'OnTimeProsperPayments'\n",
       "\\item 'ProsperPaymentsLessThanOneMonthLate'\n",
       "\\item 'ProsperPaymentsOneMonthPlusLate'\n",
       "\\item 'ProsperPrincipalBorrowed'\n",
       "\\item 'ProsperPrincipalOutstanding'\n",
       "\\item 'ScorexChangeAtTimeOfListing'\n",
       "\\item 'LoanCurrentDaysDelinquent'\n",
       "\\item 'LoanFirstDefaultedCycleNumber'\n",
       "\\item 'LoanMonthsSinceOrigination'\n",
       "\\item 'LoanNumber'\n",
       "\\item 'LoanOriginalAmount'\n",
       "\\item 'LoanOriginationDate'\n",
       "\\item 'LoanOriginationQuarter'\n",
       "\\item 'MemberKey'\n",
       "\\item 'MonthlyLoanPayment'\n",
       "\\item 'LP\\_CustomerPayments'\n",
       "\\item 'LP\\_CustomerPrincipalPayments'\n",
       "\\item 'LP\\_InterestandFees'\n",
       "\\item 'LP\\_ServiceFees'\n",
       "\\item 'LP\\_CollectionFees'\n",
       "\\item 'LP\\_GrossPrincipalLoss'\n",
       "\\item 'LP\\_NetPrincipalLoss'\n",
       "\\item 'LP\\_NonPrincipalRecoverypayments'\n",
       "\\item 'PercentFunded'\n",
       "\\item 'Recommendations'\n",
       "\\item 'InvestmentFromFriendsCount'\n",
       "\\item 'InvestmentFromFriendsAmount'\n",
       "\\item 'Investors'\n",
       "\\end{enumerate*}\n"
      ],
      "text/markdown": [
       "1. 'ListingKey'\n",
       "2. 'ListingNumber'\n",
       "3. 'ListingCreationDate'\n",
       "4. 'CreditGrade'\n",
       "5. 'Term'\n",
       "6. 'LoanStatus'\n",
       "7. 'ClosedDate'\n",
       "8. 'BorrowerAPR'\n",
       "9. 'BorrowerRate'\n",
       "10. 'LenderYield'\n",
       "11. 'EstimatedEffectiveYield'\n",
       "12. 'EstimatedLoss'\n",
       "13. 'EstimatedReturn'\n",
       "14. 'ProsperRating..numeric.'\n",
       "15. 'ProsperRating..Alpha.'\n",
       "16. 'ProsperScore'\n",
       "17. 'ListingCategory..numeric.'\n",
       "18. 'BorrowerState'\n",
       "19. 'Occupation'\n",
       "20. 'EmploymentStatus'\n",
       "21. 'EmploymentStatusDuration'\n",
       "22. 'IsBorrowerHomeowner'\n",
       "23. 'CurrentlyInGroup'\n",
       "24. 'GroupKey'\n",
       "25. 'DateCreditPulled'\n",
       "26. 'CreditScoreRangeLower'\n",
       "27. 'CreditScoreRangeUpper'\n",
       "28. 'FirstRecordedCreditLine'\n",
       "29. 'CurrentCreditLines'\n",
       "30. 'OpenCreditLines'\n",
       "31. 'TotalCreditLinespast7years'\n",
       "32. 'OpenRevolvingAccounts'\n",
       "33. 'OpenRevolvingMonthlyPayment'\n",
       "34. 'InquiriesLast6Months'\n",
       "35. 'TotalInquiries'\n",
       "36. 'CurrentDelinquencies'\n",
       "37. 'AmountDelinquent'\n",
       "38. 'DelinquenciesLast7Years'\n",
       "39. 'PublicRecordsLast10Years'\n",
       "40. 'PublicRecordsLast12Months'\n",
       "41. 'RevolvingCreditBalance'\n",
       "42. 'BankcardUtilization'\n",
       "43. 'AvailableBankcardCredit'\n",
       "44. 'TotalTrades'\n",
       "45. 'TradesNeverDelinquent..percentage.'\n",
       "46. 'TradesOpenedLast6Months'\n",
       "47. 'DebtToIncomeRatio'\n",
       "48. 'IncomeRange'\n",
       "49. 'IncomeVerifiable'\n",
       "50. 'StatedMonthlyIncome'\n",
       "51. 'LoanKey'\n",
       "52. 'TotalProsperLoans'\n",
       "53. 'TotalProsperPaymentsBilled'\n",
       "54. 'OnTimeProsperPayments'\n",
       "55. 'ProsperPaymentsLessThanOneMonthLate'\n",
       "56. 'ProsperPaymentsOneMonthPlusLate'\n",
       "57. 'ProsperPrincipalBorrowed'\n",
       "58. 'ProsperPrincipalOutstanding'\n",
       "59. 'ScorexChangeAtTimeOfListing'\n",
       "60. 'LoanCurrentDaysDelinquent'\n",
       "61. 'LoanFirstDefaultedCycleNumber'\n",
       "62. 'LoanMonthsSinceOrigination'\n",
       "63. 'LoanNumber'\n",
       "64. 'LoanOriginalAmount'\n",
       "65. 'LoanOriginationDate'\n",
       "66. 'LoanOriginationQuarter'\n",
       "67. 'MemberKey'\n",
       "68. 'MonthlyLoanPayment'\n",
       "69. 'LP_CustomerPayments'\n",
       "70. 'LP_CustomerPrincipalPayments'\n",
       "71. 'LP_InterestandFees'\n",
       "72. 'LP_ServiceFees'\n",
       "73. 'LP_CollectionFees'\n",
       "74. 'LP_GrossPrincipalLoss'\n",
       "75. 'LP_NetPrincipalLoss'\n",
       "76. 'LP_NonPrincipalRecoverypayments'\n",
       "77. 'PercentFunded'\n",
       "78. 'Recommendations'\n",
       "79. 'InvestmentFromFriendsCount'\n",
       "80. 'InvestmentFromFriendsAmount'\n",
       "81. 'Investors'\n",
       "\n",
       "\n"
      ],
      "text/plain": [
       " [1] \"ListingKey\"                          \"ListingNumber\"                      \n",
       " [3] \"ListingCreationDate\"                 \"CreditGrade\"                        \n",
       " [5] \"Term\"                                \"LoanStatus\"                         \n",
       " [7] \"ClosedDate\"                          \"BorrowerAPR\"                        \n",
       " [9] \"BorrowerRate\"                        \"LenderYield\"                        \n",
       "[11] \"EstimatedEffectiveYield\"             \"EstimatedLoss\"                      \n",
       "[13] \"EstimatedReturn\"                     \"ProsperRating..numeric.\"            \n",
       "[15] \"ProsperRating..Alpha.\"               \"ProsperScore\"                       \n",
       "[17] \"ListingCategory..numeric.\"           \"BorrowerState\"                      \n",
       "[19] \"Occupation\"                          \"EmploymentStatus\"                   \n",
       "[21] \"EmploymentStatusDuration\"            \"IsBorrowerHomeowner\"                \n",
       "[23] \"CurrentlyInGroup\"                    \"GroupKey\"                           \n",
       "[25] \"DateCreditPulled\"                    \"CreditScoreRangeLower\"              \n",
       "[27] \"CreditScoreRangeUpper\"               \"FirstRecordedCreditLine\"            \n",
       "[29] \"CurrentCreditLines\"                  \"OpenCreditLines\"                    \n",
       "[31] \"TotalCreditLinespast7years\"          \"OpenRevolvingAccounts\"              \n",
       "[33] \"OpenRevolvingMonthlyPayment\"         \"InquiriesLast6Months\"               \n",
       "[35] \"TotalInquiries\"                      \"CurrentDelinquencies\"               \n",
       "[37] \"AmountDelinquent\"                    \"DelinquenciesLast7Years\"            \n",
       "[39] \"PublicRecordsLast10Years\"            \"PublicRecordsLast12Months\"          \n",
       "[41] \"RevolvingCreditBalance\"              \"BankcardUtilization\"                \n",
       "[43] \"AvailableBankcardCredit\"             \"TotalTrades\"                        \n",
       "[45] \"TradesNeverDelinquent..percentage.\"  \"TradesOpenedLast6Months\"            \n",
       "[47] \"DebtToIncomeRatio\"                   \"IncomeRange\"                        \n",
       "[49] \"IncomeVerifiable\"                    \"StatedMonthlyIncome\"                \n",
       "[51] \"LoanKey\"                             \"TotalProsperLoans\"                  \n",
       "[53] \"TotalProsperPaymentsBilled\"          \"OnTimeProsperPayments\"              \n",
       "[55] \"ProsperPaymentsLessThanOneMonthLate\" \"ProsperPaymentsOneMonthPlusLate\"    \n",
       "[57] \"ProsperPrincipalBorrowed\"            \"ProsperPrincipalOutstanding\"        \n",
       "[59] \"ScorexChangeAtTimeOfListing\"         \"LoanCurrentDaysDelinquent\"          \n",
       "[61] \"LoanFirstDefaultedCycleNumber\"       \"LoanMonthsSinceOrigination\"         \n",
       "[63] \"LoanNumber\"                          \"LoanOriginalAmount\"                 \n",
       "[65] \"LoanOriginationDate\"                 \"LoanOriginationQuarter\"             \n",
       "[67] \"MemberKey\"                           \"MonthlyLoanPayment\"                 \n",
       "[69] \"LP_CustomerPayments\"                 \"LP_CustomerPrincipalPayments\"       \n",
       "[71] \"LP_InterestandFees\"                  \"LP_ServiceFees\"                     \n",
       "[73] \"LP_CollectionFees\"                   \"LP_GrossPrincipalLoss\"              \n",
       "[75] \"LP_NetPrincipalLoss\"                 \"LP_NonPrincipalRecoverypayments\"    \n",
       "[77] \"PercentFunded\"                       \"Recommendations\"                    \n",
       "[79] \"InvestmentFromFriendsCount\"          \"InvestmentFromFriendsAmount\"        \n",
       "[81] \"Investors\"                          "
      ]
     },
     "metadata": {},
     "output_type": "display_data"
    }
   ],
   "source": [
    "# variables in dataset\n",
    "names(data)"
   ]
  },
  {
   "cell_type": "markdown",
   "metadata": {},
   "source": [
    "> There are a lot of variables here and we are going to narrow these down to 12 variables to perform an analysis on. These variables will be:\n",
    "> * Term\n",
    "> * BorrowerAPR\n",
    "> * BankcardUtilization\n",
    "> * IncomeRange\n",
    "> * LoanOriginalAmount\n",
    "> * InquiriesLast6Months\n",
    "> * EmploymentStatus\n",
    "> * OnTimeProsperPayments\n",
    "> * TotalProsperLoans\n",
    "> * CreditScoreRangeLower\n",
    "> * CreditScoreRangeUpper\n",
    "> * LoanStatus"
   ]
  },
  {
   "cell_type": "markdown",
   "metadata": {},
   "source": [
    "> I feel that these variables will provide good insight on loans off of eachother, for example, how does employment status affect the inquiries in the past 6 months? How does credit score affect the loan amount? These variables should provide good insight into different types of loans and how they affect other variables."
   ]
  },
  {
   "cell_type": "code",
   "execution_count": 97,
   "metadata": {},
   "outputs": [
    {
     "data": {
      "text/html": [
       "<style>\n",
       ".list-inline {list-style: none; margin:0; padding: 0}\n",
       ".list-inline>li {display: inline-block}\n",
       ".list-inline>li:not(:last-child)::after {content: \"\\00b7\"; padding: 0 .5ex}\n",
       "</style>\n",
       "<ol class=list-inline><li>'Term'</li><li>'BorrowerAPR'</li><li>'BankcardUtilization'</li><li>'IncomeRange'</li><li>'LoanOriginalAmount'</li><li>'InquiriesLast6Months'</li><li>'EmploymentStatus'</li><li>'OnTimeProsperPayments'</li><li>'TotalProsperLoans'</li><li>'CreditScoreRangeLower'</li><li>'CreditScoreRangeUpper'</li><li>'LoanStatus'</li></ol>\n"
      ],
      "text/latex": [
       "\\begin{enumerate*}\n",
       "\\item 'Term'\n",
       "\\item 'BorrowerAPR'\n",
       "\\item 'BankcardUtilization'\n",
       "\\item 'IncomeRange'\n",
       "\\item 'LoanOriginalAmount'\n",
       "\\item 'InquiriesLast6Months'\n",
       "\\item 'EmploymentStatus'\n",
       "\\item 'OnTimeProsperPayments'\n",
       "\\item 'TotalProsperLoans'\n",
       "\\item 'CreditScoreRangeLower'\n",
       "\\item 'CreditScoreRangeUpper'\n",
       "\\item 'LoanStatus'\n",
       "\\end{enumerate*}\n"
      ],
      "text/markdown": [
       "1. 'Term'\n",
       "2. 'BorrowerAPR'\n",
       "3. 'BankcardUtilization'\n",
       "4. 'IncomeRange'\n",
       "5. 'LoanOriginalAmount'\n",
       "6. 'InquiriesLast6Months'\n",
       "7. 'EmploymentStatus'\n",
       "8. 'OnTimeProsperPayments'\n",
       "9. 'TotalProsperLoans'\n",
       "10. 'CreditScoreRangeLower'\n",
       "11. 'CreditScoreRangeUpper'\n",
       "12. 'LoanStatus'\n",
       "\n",
       "\n"
      ],
      "text/plain": [
       " [1] \"Term\"                  \"BorrowerAPR\"           \"BankcardUtilization\"  \n",
       " [4] \"IncomeRange\"           \"LoanOriginalAmount\"    \"InquiriesLast6Months\" \n",
       " [7] \"EmploymentStatus\"      \"OnTimeProsperPayments\" \"TotalProsperLoans\"    \n",
       "[10] \"CreditScoreRangeLower\" \"CreditScoreRangeUpper\" \"LoanStatus\"           "
      ]
     },
     "metadata": {},
     "output_type": "display_data"
    }
   ],
   "source": [
    "# Getting the variables we want to keep\n",
    "vars <- c('Term','BorrowerAPR','BankcardUtilization','IncomeRange','LoanOriginalAmount','InquiriesLast6Months','EmploymentStatus','OnTimeProsperPayments','TotalProsperLoans','CreditScoreRangeLower','CreditScoreRangeUpper','LoanStatus')\n",
    "\n",
    "# Assigning the variables we want to a seperate dataset\n",
    "newData <- data[vars]\n",
    "\n",
    "# Showing the names of the new dataset to make sure we got the correct variables\n",
    "names(newData)"
   ]
  },
  {
   "cell_type": "markdown",
   "metadata": {},
   "source": [
    "## Univariate Analysis"
   ]
  },
  {
   "cell_type": "markdown",
   "metadata": {},
   "source": [
    "### Term"
   ]
  },
  {
   "cell_type": "markdown",
   "metadata": {},
   "source": [
    "> The length of the loan expressed in months."
   ]
  },
  {
   "cell_type": "code",
   "execution_count": 98,
   "metadata": {},
   "outputs": [
    {
     "data": {
      "image/png": "[encoded data removed]",
      "text/plain": [
       "plot without title"
      ]
     },
     "metadata": {
      "image/png": {
       "height": 420,
       "width": 420
      },
      "text/plain": {
       "height": 420,
       "width": 420
      }
     },
     "output_type": "display_data"
    }
   ],
   "source": [
    "termData <- newData['Term']\n",
    "\n",
    "termChart <- ggplot(aes(x = Term), data = termData) +\n",
    "                geom_histogram(binwidth = 12, fill = 'blue') +\n",
    "                scale_x_continuous(breaks = seq(0, 60, 12))\n",
    "\n",
    "termChart + ggtitle('User Count vs Term Length') +\n",
    "            xlab('Term Length in Months') +\n",
    "            ylab('User Count')"
   ]
  },
  {
   "cell_type": "markdown",
   "metadata": {},
   "source": [
    "> We can see from this chart that the terms offered by Prosper are either 12 months, 36 months, or 60 months. 1, 3, or 5 years. Nothing inbetween. From the user count, the most popular term length is 3 years, followed by significantly less users at 5 year terms. The 1 year term is very unpopular by a user count perspective."
   ]
  },
  {
   "cell_type": "markdown",
   "metadata": {},
   "source": [
    "### Borrower APR"
   ]
  },
  {
   "cell_type": "markdown",
   "metadata": {},
   "source": [
    "> The Borrower's Annual Percentage Rate (APR) for the loan. "
   ]
  },
  {
   "cell_type": "code",
   "execution_count": 99,
   "metadata": {},
   "outputs": [
    {
     "name": "stderr",
     "output_type": "stream",
     "text": [
      "Warning message:\n",
      "\"Removed 25 rows containing non-finite values (stat_bin).\"\n"
     ]
    },
    {
     "data": {
      "image/png": "[encoded data removed]",
      "text/plain": [
       "plot without title"
      ]
     },
     "metadata": {
      "image/png": {
       "height": 420,
       "width": 420
      },
      "text/plain": {
       "height": 420,
       "width": 420
      }
     },
     "output_type": "display_data"
    }
   ],
   "source": [
    "aprData <- newData['BorrowerAPR']\n",
    "\n",
    "aprChart <- ggplot(aes(x = BorrowerAPR), data = aprData) +\n",
    "                geom_histogram(binwidth = 0.01, fill = 'cyan4') +\n",
    "                scale_x_continuous(breaks = seq(0, 0.5, 0.05))\n",
    "\n",
    "aprChart + ggtitle('User Count vs APR') +\n",
    "            xlab('APR') +\n",
    "            ylab('User Count')"
   ]
  },
  {
   "cell_type": "markdown",
   "metadata": {},
   "source": [
    "> APR is really spread out all over the place. There really isnt one APR that is significantly more common than the others. The count with the highest is around ~0.38 but there is a very even grouping of users with APR all over the chart."
   ]
  },
  {
   "cell_type": "markdown",
   "metadata": {},
   "source": [
    "### Bankcard Utilization"
   ]
  },
  {
   "cell_type": "markdown",
   "metadata": {},
   "source": [
    "> The percentage of available revolving credit that is utilized at the time the credit profile was pulled."
   ]
  },
  {
   "cell_type": "code",
   "execution_count": 100,
   "metadata": {
    "scrolled": false
   },
   "outputs": [
    {
     "name": "stderr",
     "output_type": "stream",
     "text": [
      "Warning message:\n",
      "\"Removed 25854 rows containing non-finite values (stat_bin).\"\n",
      "Warning message:\n",
      "\"Removed 2 rows containing missing values (geom_bar).\"\n"
     ]
    },
    {
     "data": {
      "image/png": "[encoded data removed]",
      "text/plain": [
       "plot without title"
      ]
     },
     "metadata": {
      "image/png": {
       "height": 420,
       "width": 420
      },
      "text/plain": {
       "height": 420,
       "width": 420
      }
     },
     "output_type": "display_data"
    }
   ],
   "source": [
    "bankData <- newData['BankcardUtilization']\n",
    "\n",
    "bankChart <- ggplot(aes(x = BankcardUtilization), data = bankData) +\n",
    "                geom_histogram(binwidth = 0.01, fill = 'turquoise') +\n",
    "                scale_x_continuous(limits = c(0,0.9), breaks = seq(0, 0.9, 0.1)) +\n",
    "                scale_y_continuous(limits = c(0,1500))\n",
    "\n",
    "bankChart + ggtitle('User Count vs Credit Utilization') +\n",
    "            xlab('Credit Utilization') +\n",
    "            ylab('User Count')"
   ]
  },
  {
   "cell_type": "markdown",
   "metadata": {},
   "source": [
    "> More users have a higher credit utilization. Fewer users have a lower credit utilization. We could infer from this that as credit utilization increases, more people will look into getting a loan, probably trying to pay down on their credit cards. As credit utilization increases, the chance a person seek a loan is higher."
   ]
  },
  {
   "cell_type": "markdown",
   "metadata": {},
   "source": [
    "### Income Range"
   ]
  },
  {
   "cell_type": "markdown",
   "metadata": {},
   "source": [
    "> The income range of the borrower at the time the listing was created."
   ]
  },
  {
   "cell_type": "code",
   "execution_count": 101,
   "metadata": {},
   "outputs": [
    {
     "data": {
      "image/png": "[encoded data removed]",
      "text/plain": [
       "plot without title"
      ]
     },
     "metadata": {
      "image/png": {
       "height": 420,
       "width": 420
      },
      "text/plain": {
       "height": 420,
       "width": 420
      }
     },
     "output_type": "display_data"
    }
   ],
   "source": [
    "incomeData <- newData['IncomeRange']\n",
    "\n",
    "incomeChart <- ggplot(aes(x = IncomeRange), data = incomeData) +\n",
    "                geom_bar(fill = 'green4') +\n",
    "                theme(axis.text.x = element_text(angle = 45, vjust = 1, hjust=1))\n",
    "\n",
    "incomeChart + ggtitle('User Count vs Income') +\n",
    "            xlab('Income') +\n",
    "            ylab('User Count')"
   ]
  },
  {
   "cell_type": "markdown",
   "metadata": {},
   "source": [
    "> Most users have an income of 25,000 - 45,000, with somewhat fewer having an income between 50,000 - 74,999."
   ]
  },
  {
   "cell_type": "markdown",
   "metadata": {},
   "source": [
    "### Original Loan Amount"
   ]
  },
  {
   "cell_type": "markdown",
   "metadata": {},
   "source": [
    "> The origination amount of the loan."
   ]
  },
  {
   "cell_type": "code",
   "execution_count": 102,
   "metadata": {},
   "outputs": [
    {
     "data": {
      "image/png": "[encoded data removed]",
      "text/plain": [
       "plot without title"
      ]
     },
     "metadata": {
      "image/png": {
       "height": 420,
       "width": 420
      },
      "text/plain": {
       "height": 420,
       "width": 420
      }
     },
     "output_type": "display_data"
    }
   ],
   "source": [
    "loanData <- newData['LoanOriginalAmount']\n",
    "\n",
    "loanChart <- ggplot(aes(x = LoanOriginalAmount), data = loanData) +\n",
    "                geom_histogram(binwidth = 1000, fill = 'darkgreen') +\n",
    "                scale_x_continuous(breaks = seq(0, 35000, 5000))\n",
    "\n",
    "loanChart + ggtitle('User Count vs Loan Amount') +\n",
    "            xlab('Loan Amount') +\n",
    "            ylab('User Count')"
   ]
  },
  {
   "cell_type": "markdown",
   "metadata": {},
   "source": [
    "> This chart shows that there are loans for any amounts between 0 and 35,000. The interesting thing here to note is that big whole numbers are much more common than other numbers. For example, there is a spike in user count for 5000, 10000, 15000, 20000, etc. These big rounded numbers all have a spike in users and could tell us that a user would prefer a loan of 15,000 over 14,576 for example. These big rounded numbers are much more attractive from a general user perspective. This could also show us that loan companies typically give out loans of these big whole numbers, rather than inbetween them."
   ]
  },
  {
   "cell_type": "markdown",
   "metadata": {},
   "source": [
    "### Inquiries Last 6 Months"
   ]
  },
  {
   "cell_type": "markdown",
   "metadata": {},
   "source": [
    "> Number of inquiries in the past six months at the time the credit profile was pulled."
   ]
  },
  {
   "cell_type": "code",
   "execution_count": 103,
   "metadata": {},
   "outputs": [
    {
     "name": "stderr",
     "output_type": "stream",
     "text": [
      "Warning message:\n",
      "\"Removed 781 rows containing non-finite values (stat_bin).\"\n",
      "Warning message:\n",
      "\"Removed 2 rows containing missing values (geom_bar).\"\n"
     ]
    },
    {
     "data": {
      "image/png": "[encoded data removed]",
      "text/plain": [
       "plot without title"
      ]
     },
     "metadata": {
      "image/png": {
       "height": 420,
       "width": 420
      },
      "text/plain": {
       "height": 420,
       "width": 420
      }
     },
     "output_type": "display_data"
    }
   ],
   "source": [
    "inquiryData <- newData['InquiriesLast6Months']\n",
    "\n",
    "inquiryChart <- ggplot(aes(x = InquiriesLast6Months), data = inquiryData) +\n",
    "                geom_histogram(binwidth = 1, fill = 'steelblue4') +\n",
    "                scale_x_continuous(limits = c(0,25), breaks = seq(0, 25, 1)) +\n",
    "                ylim(0,30000)\n",
    "\n",
    "inquiryChart"
   ]
  },
  {
   "cell_type": "markdown",
   "metadata": {},
   "source": [
    "> The vast majority of users have had 0 inquiries within the past 6 months. About half of that number of people have had 1 inquiry, and half of that number of users have had 2. It keeps decreasing with this relatively half the amount of users having another inquiry."
   ]
  },
  {
   "cell_type": "markdown",
   "metadata": {},
   "source": [
    "### Employment Status"
   ]
  },
  {
   "cell_type": "markdown",
   "metadata": {},
   "source": [
    "> The employment status of the borrower at the time they posted the listing."
   ]
  },
  {
   "cell_type": "code",
   "execution_count": 104,
   "metadata": {},
   "outputs": [
    {
     "data": {
      "image/png": "[encoded data removed]",
      "text/plain": [
       "plot without title"
      ]
     },
     "metadata": {
      "image/png": {
       "height": 420,
       "width": 420
      },
      "text/plain": {
       "height": 420,
       "width": 420
      }
     },
     "output_type": "display_data"
    }
   ],
   "source": [
    "employmentData <- newData['EmploymentStatus']\n",
    "\n",
    "employmentChart <- ggplot(aes(x = EmploymentStatus), data = employmentData) +\n",
    "                geom_bar(fill = \"red3\") +\n",
    "                theme(axis.text.x = element_text(angle = 45, vjust = 1, hjust=1))\n",
    "\n",
    "employmentChart"
   ]
  },
  {
   "cell_type": "markdown",
   "metadata": {},
   "source": [
    "> The vast majority of users are employed in some fashion, mostly full-time."
   ]
  },
  {
   "cell_type": "markdown",
   "metadata": {},
   "source": [
    "### On Time Prosper Payments"
   ]
  },
  {
   "cell_type": "markdown",
   "metadata": {},
   "source": [
    "> Number of on time payments the borrower had made on Prosper loans at the time they created this listing. This value will be null if the borrower has no prior loans."
   ]
  },
  {
   "cell_type": "code",
   "execution_count": null,
   "metadata": {},
   "outputs": [],
   "source": []
  },
  {
   "cell_type": "code",
   "execution_count": null,
   "metadata": {},
   "outputs": [],
   "source": []
  },
  {
   "cell_type": "code",
   "execution_count": null,
   "metadata": {},
   "outputs": [],
   "source": []
  },
  {
   "cell_type": "markdown",
   "metadata": {},
   "source": [
    "### Total Prosper Loans"
   ]
  },
  {
   "cell_type": "markdown",
   "metadata": {},
   "source": [
    "> Number of Prosper loans the borrower at the time they created this listing. This value will be null if the borrower had no prior loans. "
   ]
  },
  {
   "cell_type": "code",
   "execution_count": null,
   "metadata": {},
   "outputs": [],
   "source": []
  },
  {
   "cell_type": "code",
   "execution_count": null,
   "metadata": {},
   "outputs": [],
   "source": []
  },
  {
   "cell_type": "code",
   "execution_count": null,
   "metadata": {},
   "outputs": [],
   "source": []
  },
  {
   "cell_type": "markdown",
   "metadata": {},
   "source": [
    "### Credit Score Range Lower"
   ]
  },
  {
   "cell_type": "markdown",
   "metadata": {},
   "source": [
    "> The lower value representing the range of the borrower's credit score as provided by a consumer credit rating agency."
   ]
  },
  {
   "cell_type": "code",
   "execution_count": null,
   "metadata": {},
   "outputs": [],
   "source": []
  },
  {
   "cell_type": "code",
   "execution_count": null,
   "metadata": {},
   "outputs": [],
   "source": []
  },
  {
   "cell_type": "code",
   "execution_count": null,
   "metadata": {},
   "outputs": [],
   "source": []
  },
  {
   "cell_type": "markdown",
   "metadata": {},
   "source": [
    "### Credit Score Range Upper"
   ]
  },
  {
   "cell_type": "markdown",
   "metadata": {},
   "source": [
    "> The upper value representing the range of the borrower's credit score as provided by a consumer credit rating agency."
   ]
  },
  {
   "cell_type": "code",
   "execution_count": null,
   "metadata": {},
   "outputs": [],
   "source": []
  },
  {
   "cell_type": "code",
   "execution_count": null,
   "metadata": {},
   "outputs": [],
   "source": []
  },
  {
   "cell_type": "code",
   "execution_count": null,
   "metadata": {},
   "outputs": [],
   "source": []
  },
  {
   "cell_type": "markdown",
   "metadata": {},
   "source": [
    "### Loan Status"
   ]
  },
  {
   "cell_type": "markdown",
   "metadata": {},
   "source": [
    "> The current status of the loan: Cancelled, Chargedoff, Completed, Current, Defaulted, FinalPaymentInProgress, PastDue. The PastDue status will be accompanied by a delinquency bucket."
   ]
  },
  {
   "cell_type": "code",
   "execution_count": null,
   "metadata": {},
   "outputs": [],
   "source": []
  },
  {
   "cell_type": "code",
   "execution_count": null,
   "metadata": {},
   "outputs": [],
   "source": []
  },
  {
   "cell_type": "code",
   "execution_count": null,
   "metadata": {},
   "outputs": [],
   "source": []
  }
 ],
 "metadata": {
  "kernelspec": {
   "display_name": "R",
   "language": "R",
   "name": "ir"
  },
  "language_info": {
   "codemirror_mode": "r",
   "file_extension": ".r",
   "mimetype": "text/x-r-source",
   "name": "R",
   "pygments_lexer": "r",
   "version": "4.0.1"
  }
 },
 "nbformat": 4,
 "nbformat_minor": 4
}
